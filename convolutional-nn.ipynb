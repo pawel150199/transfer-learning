{
 "cells": [
  {
   "cell_type": "markdown",
   "source": [
    "## CNN\n",
    "Convolutional Neural Networks are Deep Learning methods. They are connecting feature extraction with classification.\n",
    "Convolution is a math operation which allows processing smaller bunch of pixels and learn better model.\n",
    "\n",
    "Example architecture of CNN can looks like following ones:\n",
    "\n",
    "<div style=\"text-align: left;\">\n",
    "  <img src=\"./images/CNN.png\" width=\"700px\" height=\"450px\">\n",
    "</div>\n",
    "\n",
    "\n",
    "## Dataset\n",
    "I decided to choose Car images datasets.\n",
    "\n",
    "Link: https://www.kaggle.com/datasets/kshitij192/cars-image-dataset\n",
    "\n",
    "This dataset consists of various types of cars. The dataset is organized into 2 folders (train, test) and contains subfolders for each car category. There are 4,165 images (JPG) and 7"
   ],
   "metadata": {}
  },
  {
   "cell_type": "markdown",
   "source": [
    "Load train dataset"
   ],
   "metadata": {}
  },
  {
   "cell_type": "code",
   "execution_count": null,
   "source": [
    "import numpy as np\n",
    "import pandas as pd\n",
    "import warnings\n",
    "import matplotlib.pyplot as plt\n",
    "from matplotlib import gridspec\n",
    "from tensorflow.keras.preprocessing import image_dataset_from_directory\n",
    "import tensorflow        as tf\n",
    "import PIL\n",
    "import os\n",
    "\n",
    "warnings.filterwarnings(\"ignore\")\n",
    "\n"
   ],
   "outputs": [],
   "metadata": {}
  },
  {
   "cell_type": "code",
   "execution_count": 6,
   "source": [
    "def set_seed(seed=1410):\n",
    "    np.random.seed(seed)\n",
    "    tf.random.set_seed(seed)\n",
    "    os.environ[\"PYTHONHASHSEED\"] = str(seed)\n",
    "    os.environ[\"TF_DETERMINISTIC_OPS\"] = \"1\"\n",
    "\n",
    "set_seed()"
   ],
   "outputs": [],
   "metadata": {}
  },
  {
   "cell_type": "code",
   "execution_count": 7,
   "source": [
    "# Set Matplotlib defaults\n",
    "plt.rc('figure', autolayout=True)\n",
    "plt.rc('axes', labelweight='bold', labelsize='large',\n",
    "       titleweight='bold', titlesize=18, titlepad=10)\n",
    "plt.rc('image', cmap='magma')"
   ],
   "outputs": [],
   "metadata": {}
  },
  {
   "cell_type": "code",
   "execution_count": 20,
   "source": [
    "train_data = image_dataset_from_directory(\n",
    "    \"Cars/train\",\n",
    "    labels = \"inferred\",\n",
    "    image_size=[128, 128],\n",
    "    interpolation='nearest',\n",
    "    batch_size=64,\n",
    "    shuffle=True,\n",
    ")\n",
    "\n",
    "test_data = image_dataset_from_directory(\n",
    "    \"Cars/test\",\n",
    "    labels = \"inferred\",\n",
    "    image_size=[128, 128],\n",
    "    interpolation='nearest',\n",
    "    batch_size=64,\n",
    "    shuffle=True,\n",
    ")"
   ],
   "outputs": [
    {
     "output_type": "stream",
     "name": "stdout",
     "text": [
      "Found 3352 files belonging to 7 classes.\n",
      "Found 813 files belonging to 7 classes.\n"
     ]
    }
   ],
   "metadata": {}
  },
  {
   "cell_type": "code",
   "execution_count": 21,
   "source": [
    "def convert_to_float(image, label):\n",
    "    image = tf.image.convert_image_dtype(image, dtype=tf.float32)\n",
    "    return image, label\n"
   ],
   "outputs": [],
   "metadata": {}
  },
  {
   "cell_type": "code",
   "execution_count": 25,
   "source": [
    "train_data = (\n",
    "    train_data\n",
    "    .map(convert_to_float)\n",
    "    .cache()    \n",
    ")\n",
    "test_data = (\n",
    "    test_data\n",
    "    .map(convert_to_float)\n",
    "    .cache()\n",
    ")"
   ],
   "outputs": [],
   "metadata": {}
  },
  {
   "cell_type": "code",
   "execution_count": null,
   "source": [
    "from tensorflow.keras import Sequential\n",
    "from tensorflow import keras\n",
    "from tensorflow.keras.layers import Dropout, Dense, Conv2D, LeakyReLU, MaxPooling2D, Flatten\n",
    "\n",
    "num_classes = 7\n",
    "\n",
    "model = Sequential()\n",
    "model.add(Conv2D(32, kernel_size=(3, 3),activation='linear',padding='same',input_shape=(128,128,3)))\n",
    "model.add(LeakyReLU(alpha=0.1))\n",
    "model.add(MaxPooling2D((2, 2),padding='same'))\n",
    "model.add(Dropout(0.25))\n",
    "model.add(Conv2D(64, (3, 3), activation='linear',padding='same'))\n",
    "model.add(LeakyReLU(alpha=0.1))\n",
    "model.add(MaxPooling2D(pool_size=(2, 2),padding='same'))\n",
    "model.add(Dropout(0.25))\n",
    "model.add(Conv2D(128, (3, 3), activation='linear',padding='same'))\n",
    "model.add(LeakyReLU(alpha=0.1))                  \n",
    "model.add(MaxPooling2D(pool_size=(2, 2),padding='same'))\n",
    "model.add(Dropout(0.4))\n",
    "model.add(Flatten())\n",
    "model.add(Dense(128, activation='linear'))\n",
    "model.add(LeakyReLU(alpha=0.1))           \n",
    "model.add(Dropout(0.3))\n",
    "model.add(Dense(num_classes, activation='softmax'))"
   ],
   "outputs": [],
   "metadata": {}
  },
  {
   "cell_type": "code",
   "execution_count": 52,
   "source": [
    "model.compile(loss=keras.losses.categorical_crossentropy, optimizer=keras.optimizers.Adam(),metrics=['accuracy'])\n"
   ],
   "outputs": [],
   "metadata": {}
  },
  {
   "cell_type": "code",
   "execution_count": 53,
   "source": [
    "from keras.utils import to_categorical\n",
    "\n",
    "history = model.fit(\n",
    "    train_data,\n",
    "    validation_data = test_data,\n",
    "    epochs=10,\n",
    "    batch_size=64,\n",
    "    shuffle=True\n",
    ")"
   ],
   "outputs": [
    {
     "output_type": "stream",
     "name": "stdout",
     "text": [
      "Epoch 1/10\n",
      "53/53 [==============================] - 259s 5s/step - loss: 0.0000e+00 - accuracy: 0.0808 - val_loss: 0.0000e+00 - val_accuracy: 0.0824\n",
      "Epoch 2/10\n",
      "53/53 [==============================] - 230s 4s/step - loss: 0.0000e+00 - accuracy: 0.0808 - val_loss: 0.0000e+00 - val_accuracy: 0.0824\n",
      "Epoch 3/10\n",
      "53/53 [==============================] - 217s 4s/step - loss: 0.0000e+00 - accuracy: 0.0808 - val_loss: 0.0000e+00 - val_accuracy: 0.0824\n",
      "Epoch 4/10\n",
      "15/53 [=======>......................] - ETA: 2:27 - loss: 0.0000e+00 - accuracy: 0.0750"
     ]
    }
   ],
   "metadata": {}
  },
  {
   "cell_type": "code",
   "execution_count": 38,
   "source": [
    "model.summary()"
   ],
   "outputs": [
    {
     "output_type": "stream",
     "name": "stdout",
     "text": [
      "Model: \"sequential_5\"\n",
      "_________________________________________________________________\n",
      " Layer (type)                Output Shape              Param #   \n",
      "=================================================================\n",
      " conv2d_10 (Conv2D)          (None, 126, 126, 64)      1792      \n",
      "                                                                 \n",
      " conv2d_11 (Conv2D)          (None, 124, 124, 32)      18464     \n",
      "                                                                 \n",
      " flatten_5 (Flatten)         (None, 492032)            0         \n",
      "                                                                 \n",
      " dense_5 (Dense)             (None, 10)                4920330   \n",
      "                                                                 \n",
      " dense_6 (Dense)             (None, 1)                 11        \n",
      "                                                                 \n",
      "=================================================================\n",
      "Total params: 4,940,597\n",
      "Trainable params: 4,940,597\n",
      "Non-trainable params: 0\n",
      "_________________________________________________________________\n"
     ]
    }
   ],
   "metadata": {}
  },
  {
   "cell_type": "code",
   "execution_count": 44,
   "source": [
    "plt.plot(history.history['accuracy'], color=\"red\", linewidth=0.6, label=\"acc\")\n",
    "plt.plot(history.history['val_accuracy'], color=\"blue\", linewidth=0.6, label=\"val_acc\")\n",
    "plt.legend()\n",
    "plt.tight_layout()\n",
    "plt.show()"
   ],
   "outputs": [
    {
     "output_type": "display_data",
     "data": {
      "image/png": "[encoded data removed]",
      "text/plain": [
       "<Figure size 640x480 with 1 Axes>"
      ]
     },
     "metadata": {}
    }
   ],
   "metadata": {}
  }
 ],
 "metadata": {
  "orig_nbformat": 4,
  "language_info": {
   "name": "python",
   "version": "3.9.9",
   "mimetype": "text/x-python",
   "codemirror_mode": {
    "name": "ipython",
    "version": 3
   },
   "pygments_lexer": "ipython3",
   "nbconvert_exporter": "python",
   "file_extension": ".py"
  },
  "kernelspec": {
   "name": "python3",
   "display_name": "Python 3.9.9 64-bit"
  },
  "interpreter": {
   "hash": "aee8b7b246df8f9039afb4144a1f6fd8d2ca17a180786b69acc140d282b71a49"
  }
 },
 "nbformat": 4,
 "nbformat_minor": 2
}